{
 "cells": [
  {
   "attachments": {},
   "cell_type": "markdown",
   "metadata": {},
   "source": [
    "### Imports"
   ]
  },
  {
   "cell_type": "code",
   "execution_count": 8,
   "metadata": {},
   "outputs": [],
   "source": [
    "import pandas as pd\n",
    "import numpy as np\n",
    "import matplotlib\n",
    "import matplotlib.pyplot as plt\n",
    "\n",
    "import torch\n",
    "import torch.autograd as autograd\n",
    "from torch import Tensor\n",
    "import torch.nn as nn\n",
    "import torch.nn.functional as F\n",
    "import torch.optim as optim\n",
    "\n",
    "import requests\n",
    "import praw\n",
    "from prawcore.exceptions import Forbidden\n",
    "\n",
    "from transformers import AutoTokenizer, AutoModel, pipeline\n",
    "\n",
    "import spacy"
   ]
  },
  {
   "cell_type": "code",
   "execution_count": 2,
   "metadata": {},
   "outputs": [],
   "source": [
    "# Download Reddit Comments\n",
    "CLIENT_ID = 'FHIPtL3RpmgBj1JRDpGMtw'\n",
    "SECRET_KEY = 'grPtk0GCVeV8vi9eGqfY1-4lU96fhw'\n",
    "PASSWORD = 'LostOlive250'\n",
    "USER_AGENT = 'Science Fair 2023/0.0.1 abqwerupqwerhi'\n",
    "USERNAME = 'Lost-Olive-Man'\n"
   ]
  },
  {
   "cell_type": "code",
   "execution_count": 58,
   "metadata": {},
   "outputs": [],
   "source": [
    "reddit = praw.Reddit(\n",
    "    client_id = CLIENT_ID,\n",
    "    client_secret = SECRET_KEY,\n",
    "    password = PASSWORD,\n",
    "    user_agent = USER_AGENT,\n",
    "    username = USERNAME\n",
    ")"
   ]
  },
  {
   "cell_type": "code",
   "execution_count": 59,
   "metadata": {},
   "outputs": [],
   "source": [
    "test = reddit.submission(\"8zr5u3\")"
   ]
  },
  {
   "cell_type": "code",
   "execution_count": 60,
   "metadata": {},
   "outputs": [
    {
     "data": {
      "text/plain": [
       "\"I've always chewed my nails, but I never knew it was because of my anxiety. I always thought it was just a habit I never managed to kick. So I tried Sertraline, which made my anxiety 10x worse. Then my doctor switched me to Effexor, of which I am now taking 150mg qday (increase from 75) because my anxiety is skyrocketing again. Nothing has really changed in my work or social life, but I feel like I am constantly on the verge of a panic attack. My mood swings are much closer to the surface. I feel like I did before I started on medication: close to a mental breakdown. I’m hoping the dose increase helps, although I am worried about withdrawal later down the line. I missed a couple of doses and had some withdrawal symptoms, so I’m not really looking forward to eventually getting off of it. \\nI feel like I can’t really talk to anyone about this, so this post is mostly to get this all off my chest. \""
      ]
     },
     "execution_count": 60,
     "metadata": {},
     "output_type": "execute_result"
    }
   ],
   "source": [
    "test.selftext"
   ]
  },
  {
   "cell_type": "code",
   "execution_count": 72,
   "metadata": {},
   "outputs": [],
   "source": [
    "post_list = []\n",
    "\n",
    "for id in reddit_data.iloc[:,0]:\n",
    "    try:\n",
    "        post = reddit.submission(id).selftext\n",
    "        post_list.append(post)\n",
    "    except Forbidden:\n",
    "        post_list.append(\"ERROR 403\")\n",
    "        continue"
   ]
  },
  {
   "cell_type": "code",
   "execution_count": 84,
   "metadata": {},
   "outputs": [],
   "source": [
    "reddit_data['post'] = post_list"
   ]
  },
  {
   "cell_type": "code",
   "execution_count": 4,
   "metadata": {},
   "outputs": [
    {
     "data": {
      "text/html": [
       "<div>\n",
       "<style scoped>\n",
       "    .dataframe tbody tr th:only-of-type {\n",
       "        vertical-align: middle;\n",
       "    }\n",
       "\n",
       "    .dataframe tbody tr th {\n",
       "        vertical-align: top;\n",
       "    }\n",
       "\n",
       "    .dataframe thead th {\n",
       "        text-align: right;\n",
       "    }\n",
       "</style>\n",
       "<table border=\"1\" class=\"dataframe\">\n",
       "  <thead>\n",
       "    <tr style=\"text-align: right;\">\n",
       "      <th></th>\n",
       "      <th>Unnamed: 0</th>\n",
       "      <th>post_id</th>\n",
       "      <th>ADR</th>\n",
       "      <th>post</th>\n",
       "    </tr>\n",
       "  </thead>\n",
       "  <tbody>\n",
       "    <tr>\n",
       "      <th>0</th>\n",
       "      <td>0</td>\n",
       "      <td>8zr5u3</td>\n",
       "      <td>panic attack</td>\n",
       "      <td>I've always chewed my nails, but I never knew ...</td>\n",
       "    </tr>\n",
       "    <tr>\n",
       "      <th>1</th>\n",
       "      <td>1</td>\n",
       "      <td>8zr5u3</td>\n",
       "      <td>withdrawal symptoms</td>\n",
       "      <td>I've always chewed my nails, but I never knew ...</td>\n",
       "    </tr>\n",
       "    <tr>\n",
       "      <th>2</th>\n",
       "      <td>2</td>\n",
       "      <td>8zp5pz</td>\n",
       "      <td>sexual side effects</td>\n",
       "      <td>I've been on Effexor for a few months now and ...</td>\n",
       "    </tr>\n",
       "    <tr>\n",
       "      <th>3</th>\n",
       "      <td>3</td>\n",
       "      <td>8zo764</td>\n",
       "      <td>lack of appetite</td>\n",
       "      <td>[deleted]</td>\n",
       "    </tr>\n",
       "    <tr>\n",
       "      <th>4</th>\n",
       "      <td>4</td>\n",
       "      <td>8zo764</td>\n",
       "      <td>lack of sexual enjoyment</td>\n",
       "      <td>[deleted]</td>\n",
       "    </tr>\n",
       "    <tr>\n",
       "      <th>...</th>\n",
       "      <td>...</td>\n",
       "      <td>...</td>\n",
       "      <td>...</td>\n",
       "      <td>...</td>\n",
       "    </tr>\n",
       "    <tr>\n",
       "      <th>1447</th>\n",
       "      <td>1447</td>\n",
       "      <td>8y0d2e</td>\n",
       "      <td>insomnia</td>\n",
       "      <td>[deleted]</td>\n",
       "    </tr>\n",
       "    <tr>\n",
       "      <th>1448</th>\n",
       "      <td>1448</td>\n",
       "      <td>8y0d2e</td>\n",
       "      <td>dizziness</td>\n",
       "      <td>[deleted]</td>\n",
       "    </tr>\n",
       "    <tr>\n",
       "      <th>1449</th>\n",
       "      <td>1449</td>\n",
       "      <td>8zpqo4</td>\n",
       "      <td>dependent</td>\n",
       "      <td>ERROR 403</td>\n",
       "    </tr>\n",
       "    <tr>\n",
       "      <th>1450</th>\n",
       "      <td>1450</td>\n",
       "      <td>8y50uy</td>\n",
       "      <td>rash</td>\n",
       "      <td>[deleted]</td>\n",
       "    </tr>\n",
       "    <tr>\n",
       "      <th>1451</th>\n",
       "      <td>1451</td>\n",
       "      <td>8yfxeo</td>\n",
       "      <td>palpitations</td>\n",
       "      <td>ERROR 403</td>\n",
       "    </tr>\n",
       "  </tbody>\n",
       "</table>\n",
       "<p>1452 rows × 4 columns</p>\n",
       "</div>"
      ],
      "text/plain": [
       "      Unnamed: 0 post_id                       ADR  \\\n",
       "0              0  8zr5u3              panic attack   \n",
       "1              1  8zr5u3       withdrawal symptoms   \n",
       "2              2  8zp5pz       sexual side effects   \n",
       "3              3  8zo764          lack of appetite   \n",
       "4              4  8zo764  lack of sexual enjoyment   \n",
       "...          ...     ...                       ...   \n",
       "1447        1447  8y0d2e                  insomnia   \n",
       "1448        1448  8y0d2e                 dizziness   \n",
       "1449        1449  8zpqo4                 dependent   \n",
       "1450        1450  8y50uy                      rash   \n",
       "1451        1451  8yfxeo              palpitations   \n",
       "\n",
       "                                                   post  \n",
       "0     I've always chewed my nails, but I never knew ...  \n",
       "1     I've always chewed my nails, but I never knew ...  \n",
       "2     I've been on Effexor for a few months now and ...  \n",
       "3                                             [deleted]  \n",
       "4                                             [deleted]  \n",
       "...                                                 ...  \n",
       "1447                                          [deleted]  \n",
       "1448                                          [deleted]  \n",
       "1449                                          ERROR 403  \n",
       "1450                                          [deleted]  \n",
       "1451                                          ERROR 403  \n",
       "\n",
       "[1452 rows x 4 columns]"
      ]
     },
     "execution_count": 4,
     "metadata": {},
     "output_type": "execute_result"
    }
   ],
   "source": [
    "reddit_data = pd.read_csv('reddit data.csv')\n",
    "reddit_data"
   ]
  },
  {
   "cell_type": "code",
   "execution_count": 16,
   "metadata": {},
   "outputs": [
    {
     "name": "stderr",
     "output_type": "stream",
     "text": [
      "Some weights of BertForTokenClassification were not initialized from the model checkpoint at dmis-lab/biobert-v1.1 and are newly initialized: ['classifier.bias', 'classifier.weight']\n",
      "You should probably TRAIN this model on a down-stream task to be able to use it for predictions and inference.\n"
     ]
    }
   ],
   "source": [
    "named_ent_rec = pipeline(\"ner\", model = \"dmis-lab/biobert-v1.1\")"
   ]
  },
  {
   "cell_type": "code",
   "execution_count": 23,
   "metadata": {},
   "outputs": [
    {
     "name": "stderr",
     "output_type": "stream",
     "text": [
      "Using cache found in /Users/vishwamurugappan/.cache/torch/hub/huggingface_pytorch-transformers_main\n",
      "Some weights of the model checkpoint at dmis-lab/biobert-base-cased-v1.2 were not used when initializing BertModel: ['cls.predictions.transform.LayerNorm.bias', 'cls.predictions.transform.dense.bias', 'cls.seq_relationship.weight', 'cls.predictions.decoder.bias', 'cls.seq_relationship.bias', 'cls.predictions.bias', 'cls.predictions.transform.LayerNorm.weight', 'cls.predictions.transform.dense.weight', 'cls.predictions.decoder.weight']\n",
      "- This IS expected if you are initializing BertModel from the checkpoint of a model trained on another task or with another architecture (e.g. initializing a BertForSequenceClassification model from a BertForPreTraining model).\n",
      "- This IS NOT expected if you are initializing BertModel from the checkpoint of a model that you expect to be exactly identical (initializing a BertForSequenceClassification model from a BertForSequenceClassification model).\n",
      "Using cache found in /Users/vishwamurugappan/.cache/torch/hub/huggingface_pytorch-transformers_main\n"
     ]
    },
    {
     "data": {
      "application/vnd.jupyter.widget-view+json": {
       "model_id": "2579325727b740bd80067e68626313c3",
       "version_major": 2,
       "version_minor": 0
      },
      "text/plain": [
       "Downloading:   0%|          | 0.00/213k [00:00<?, ?B/s]"
      ]
     },
     "metadata": {},
     "output_type": "display_data"
    }
   ],
   "source": [
    "model = torch.hub.load('huggingface/pytorch-transformers', 'model', 'dmis-lab/biobert-base-cased-v1.2')\n",
    "tokenizer = torch.hub.load('huggingface/pytorch-transformers', 'tokenizer', 'dmis-lab/biobert-base-cased-v1.2')"
   ]
  },
  {
   "cell_type": "code",
   "execution_count": null,
   "metadata": {},
   "outputs": [],
   "source": []
  }
 ],
 "metadata": {
  "kernelspec": {
   "display_name": "Python 3",
   "language": "python",
   "name": "python3"
  },
  "language_info": {
   "codemirror_mode": {
    "name": "ipython",
    "version": 3
   },
   "file_extension": ".py",
   "mimetype": "text/x-python",
   "name": "python",
   "nbconvert_exporter": "python",
   "pygments_lexer": "ipython3",
   "version": "3.8.9"
  },
  "orig_nbformat": 4,
  "vscode": {
   "interpreter": {
    "hash": "31f2aee4e71d21fbe5cf8b01ff0e069b9275f58929596ceb00d14d90e3e16cd6"
   }
  }
 },
 "nbformat": 4,
 "nbformat_minor": 2
}
